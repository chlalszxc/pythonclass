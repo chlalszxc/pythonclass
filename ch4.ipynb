{
  "nbformat": 4,
  "nbformat_minor": 0,
  "metadata": {
    "colab": {
      "provenance": [],
      "include_colab_link": true
    },
    "kernelspec": {
      "name": "python3",
      "display_name": "Python 3"
    },
    "language_info": {
      "name": "python"
    }
  },
  "cells": [
    {
      "cell_type": "markdown",
      "metadata": {
        "id": "view-in-github",
        "colab_type": "text"
      },
      "source": [
        "<a href=\"https://colab.research.google.com/github/chlalszxc/pythonclass/blob/main/ch4.ipynb\" target=\"_parent\"><img src=\"https://colab.research.google.com/assets/colab-badge.svg\" alt=\"Open In Colab\"/></a>"
      ]
    },
    {
      "cell_type": "code",
      "execution_count": null,
      "metadata": {
        "colab": {
          "base_uri": "https://localhost:8080/"
        },
        "id": "gnyBtzCxHQ1v",
        "outputId": "9ca01592-cd34-4a66-eaee-a018bcc87d49"
      },
      "outputs": [
        {
          "output_type": "stream",
          "name": "stdout",
          "text": [
            "1.3333333333333333\n",
            "0.5\n",
            "2.0\n",
            "2\n",
            "1\n",
            "1024\n"
          ]
        }
      ],
      "source": [
        "print(4/3)\n",
        "print(1/2)\n",
        "print(4/2)\n",
        "print(7//3)\n",
        "print(7%3)\n",
        "print(2**10)"
      ]
    },
    {
      "cell_type": "code",
      "source": [
        "divmod(5,2)"
      ],
      "metadata": {
        "colab": {
          "base_uri": "https://localhost:8080/"
        },
        "id": "vlpsVYqEHkVh",
        "outputId": "cb743203-b4c5-4afa-f2f4-8f4bb150b2a9"
      },
      "execution_count": null,
      "outputs": [
        {
          "output_type": "execute_result",
          "data": {
            "text/plain": [
              "(2, 1)"
            ]
          },
          "metadata": {},
          "execution_count": 2
        }
      ]
    },
    {
      "cell_type": "code",
      "source": [
        "quotient, rmainder = divmod(5,2)\n",
        "print(quotient, rmainder)"
      ],
      "metadata": {
        "colab": {
          "base_uri": "https://localhost:8080/"
        },
        "id": "1E4Rsx5THl2B",
        "outputId": "93fcd0dd-972a-46d6-abf3-8e9e6275fe28"
      },
      "execution_count": null,
      "outputs": [
        {
          "output_type": "stream",
          "name": "stdout",
          "text": [
            "2 1\n"
          ]
        }
      ]
    },
    {
      "cell_type": "code",
      "source": [
        "a=1024\n",
        "print(a)\n",
        "a+=1024\n",
        "print(a)\n",
        "a-=1024\n",
        "print(a)\n",
        "a*=4\n",
        "print(a)\n",
        "a/=2\n",
        "print(a)\n",
        "a//=2\n",
        "print(a)\n",
        "a%=1022\n",
        "print(a)\n",
        "a**=10\n",
        "print(a)"
      ],
      "metadata": {
        "colab": {
          "base_uri": "https://localhost:8080/"
        },
        "id": "jH4QQfomHm3w",
        "outputId": "9ce98b94-af3c-468a-a281-679e374b3026"
      },
      "execution_count": null,
      "outputs": [
        {
          "output_type": "stream",
          "name": "stdout",
          "text": [
            "1024\n",
            "2048\n",
            "1024\n",
            "4096\n",
            "2048.0\n",
            "1024.0\n",
            "2.0\n",
            "1024.0\n"
          ]
        }
      ]
    },
    {
      "cell_type": "code",
      "source": [
        "a = 10\n",
        "b = 3\n",
        "print(\"10 == 3 =>\", a==b)\n",
        "print(\"10 != 3 =>\", a!=b)\n",
        "print(\"10 > 3 =>\", a>b)\n",
        "print(\"10 < 3 =>\", a<b)\n",
        "print(\"10 >= 3 =>\", a>=b)\n",
        "print(\"10 <= 3 =>\", a<=b)"
      ],
      "metadata": {
        "id": "Q-TjajwDHonj",
        "outputId": "73f1f572-2a36-4c36-c43b-fa8dadc6b55b",
        "colab": {
          "base_uri": "https://localhost:8080/"
        }
      },
      "execution_count": null,
      "outputs": [
        {
          "output_type": "stream",
          "name": "stdout",
          "text": [
            "10 == 3 => False\n",
            "10 != 3 => True\n",
            "10 > 3 => True\n",
            "10 < 3 => False\n",
            "10 >= 3 => True\n",
            "10 <= 3 => False\n"
          ]
        }
      ]
    },
    {
      "cell_type": "code",
      "source": [
        "print(bin(13))\n",
        "print(0b1101)"
      ],
      "metadata": {
        "id": "26Rj5UpCHpwB",
        "outputId": "23bcb3af-c6e0-4cd7-eefb-27d5c461f44a",
        "colab": {
          "base_uri": "https://localhost:8080/"
        }
      },
      "execution_count": null,
      "outputs": [
        {
          "output_type": "stream",
          "name": "stdout",
          "text": [
            "0b1101\n",
            "13\n"
          ]
        }
      ]
    },
    {
      "cell_type": "code",
      "source": [
        "print(bin(0b1101&0b1001))\n",
        "print(13&9)\n",
        "print(bin(0b1101|0b1001))\n",
        "print(13|9)\n",
        "print(bin(0b1101^0b1001))\n",
        "print(13^9)\n",
        "print(bin(~0b1101))\n",
        "print(~13)"
      ],
      "metadata": {
        "id": "vApL2WZ7HqtR",
        "outputId": "99bfe354-082d-4992-fdf6-e37d347ca95e",
        "colab": {
          "base_uri": "https://localhost:8080/"
        }
      },
      "execution_count": null,
      "outputs": [
        {
          "output_type": "stream",
          "name": "stdout",
          "text": [
            "0b1001\n",
            "9\n",
            "0b1101\n",
            "13\n",
            "0b100\n",
            "4\n",
            "-0b1110\n",
            "-14\n"
          ]
        }
      ]
    }
  ]
}