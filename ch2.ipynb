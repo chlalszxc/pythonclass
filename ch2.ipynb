{
  "nbformat": 4,
  "nbformat_minor": 0,
  "metadata": {
    "colab": {
      "provenance": [],
      "authorship_tag": "ABX9TyNR+UjuNm2UDaBVxN/tD8j7",
      "include_colab_link": true
    },
    "kernelspec": {
      "name": "python3",
      "display_name": "Python 3"
    },
    "language_info": {
      "name": "python"
    }
  },
  "cells": [
    {
      "cell_type": "markdown",
      "metadata": {
        "id": "view-in-github",
        "colab_type": "text"
      },
      "source": [
        "<a href=\"https://colab.research.google.com/github/chlalszxc/pythonclass/blob/main/ch2.ipynb\" target=\"_parent\"><img src=\"https://colab.research.google.com/assets/colab-badge.svg\" alt=\"Open In Colab\"/></a>"
      ]
    },
    {
      "cell_type": "code",
      "source": [
        "watch = 100000\n",
        "a = 'pig'\n",
        "b = 'dad'\n",
        "print(watch)\n",
        "print(a)\n",
        "print(b)\n",
        "print(a + b)\n",
        "print(a +' '+ b)"
      ],
      "metadata": {
        "colab": {
          "base_uri": "https://localhost:8080/"
        },
        "id": "-Hh0TNfR3qWx",
        "outputId": "7a8ed7bb-ac54-4dbb-a394-521c290fa1c6"
      },
      "execution_count": null,
      "outputs": [
        {
          "output_type": "stream",
          "name": "stdout",
          "text": [
            "100000\n",
            "pig\n",
            "dad\n",
            "pigdad\n",
            "pig dad\n"
          ]
        }
      ]
    },
    {
      "cell_type": "code",
      "source": [
        "aa = 1\n",
        "bb = 100\n",
        "aa, bb = bb, aa\n",
        "print(aa)\n",
        "print(bb)"
      ],
      "metadata": {
        "colab": {
          "base_uri": "https://localhost:8080/"
        },
        "id": "vCsIukd335yV",
        "outputId": "40a8931b-4227-4add-aff9-d2655a447888"
      },
      "execution_count": null,
      "outputs": [
        {
          "output_type": "stream",
          "name": "stdout",
          "text": [
            "100\n",
            "1\n"
          ]
        }
      ]
    },
    {
      "cell_type": "code",
      "source": [
        "a1 = [10, 20, 30]\n",
        "b1 = a1\n",
        "a1[0] = 20\n",
        "print(b1)"
      ],
      "metadata": {
        "colab": {
          "base_uri": "https://localhost:8080/"
        },
        "id": "F7h9l3Kw37Bs",
        "outputId": "e7c44658-38f6-4907-facb-9bb4562e77f1"
      },
      "execution_count": null,
      "outputs": [
        {
          "output_type": "stream",
          "name": "stdout",
          "text": [
            "[20, 20, 30]\n"
          ]
        }
      ]
    },
    {
      "cell_type": "code",
      "source": [
        "print(\"Hello World\")\n",
        "print('Hello World')\n",
        "int(1)\n",
        "print(1)"
      ],
      "metadata": {
        "colab": {
          "base_uri": "https://localhost:8080/"
        },
        "id": "j8jVS_FL39er",
        "outputId": "21b29da0-f4de-4248-95d7-385c8610acb6"
      },
      "execution_count": null,
      "outputs": [
        {
          "output_type": "stream",
          "name": "stdout",
          "text": [
            "Hello World\n",
            "Hello World\n",
            "1\n"
          ]
        }
      ]
    },
    {
      "cell_type": "code",
      "source": [
        "c = 1\n",
        "print(\"c=\"+str(c))\n",
        "print(\"c=\", c)\n",
        "print(\"c={}\".format(c))"
      ],
      "metadata": {
        "colab": {
          "base_uri": "https://localhost:8080/"
        },
        "id": "a0Zogfxz4BWb",
        "outputId": "c3e5b178-6d5b-4a39-c095-e75250c1e3a8"
      },
      "execution_count": null,
      "outputs": [
        {
          "output_type": "stream",
          "name": "stdout",
          "text": [
            "c=1\n",
            "c= 1\n",
            "c=1\n"
          ]
        }
      ]
    },
    {
      "cell_type": "code",
      "source": [
        "a = [10, 20, 30]\n",
        "b = 1\n",
        "c = 2\n",
        "print(a)\n",
        "print(\"a={}\".format(a))\n",
        "print(\"b={}\".format(b))\n",
        "print(\"a={}, b={}, c={}\".format(a,b,c))"
      ],
      "metadata": {
        "colab": {
          "base_uri": "https://localhost:8080/"
        },
        "id": "HhWHAH2X4DsW",
        "outputId": "bb697e70-4178-47ef-be16-ca812fa1ca08"
      },
      "execution_count": null,
      "outputs": [
        {
          "output_type": "stream",
          "name": "stdout",
          "text": [
            "[10, 20, 30]\n",
            "a=[10, 20, 30]\n",
            "b=1\n",
            "a=[10, 20, 30], b=1, c=2\n"
          ]
        }
      ]
    }
  ]
}